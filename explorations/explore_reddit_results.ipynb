{
 "cells": [
  {
   "cell_type": "code",
   "execution_count": 1,
   "metadata": {},
   "outputs": [],
   "source": [
    "import pandas as pd\n",
    "import requests\n",
    "from bs4 import BeautifulSoup\n",
    "from tqdm import tqdm"
   ]
  },
  {
   "cell_type": "code",
   "execution_count": 45,
   "metadata": {},
   "outputs": [],
   "source": [
    "class RedditData:\n",
    "    \n",
    "    def __init__(self, csv):\n",
    "        self.df = pd.read_csv(csv)\n",
    "        self.commentdf = pd.DataFrame()\n",
    "        self.postdf = pd.DataFrame()\n",
    "        self.communitydf = pd.DataFrame()\n",
    "        self.split_by_dataType()\n",
    "        self.clean_comments()\n",
    "        self.clean_posts()\n",
    "        self.clean_community()\n",
    "\n",
    "    def split_by_dataType(self):\n",
    "        for name, group in self.df.groupby('dataType'):\n",
    "            setattr(self, name+'df', pd.DataFrame(group))\n",
    "\n",
    "    def clean_comments(self):\n",
    "        self.commentdf = self.commentdf.dropna(axis=1)\n",
    "\n",
    "    def clean_posts(self):\n",
    "        self.postdf = self.postdf.dropna(axis=1)\n",
    "    \n",
    "    def clean_community(self):\n",
    "        self.communitydf = self.communitydf.dropna(axis=1)\n",
    "\n",
    "    def convert_to_eli5_structure(self):\n",
    "        pass\n",
    "        \n",
    "\n",
    "r = RedditData('../dataset_reddit-scraper_2023-05-01_22-58-46-575.csv')\n"
   ]
  },
  {
   "cell_type": "code",
   "execution_count": 8,
   "metadata": {},
   "outputs": [
    {
     "data": {
      "text/plain": [
       "Index(['alternativeTitle', 'body', 'categories/0', 'categories/1',\n",
       "       'categories/2', 'categories/3', 'category', 'categoryLabel',\n",
       "       'communityName', 'createdAt', 'dataType', 'html', 'id', 'isAd',\n",
       "       'isVideo', 'numberOfComments', 'numberOfMembers', 'numberOfreplies',\n",
       "       'parentId', 'parsedCommunityName', 'parsedId', 'scrapedAt', 'title',\n",
       "       'upVotes', 'url', 'username'],\n",
       "      dtype='object')"
      ]
     },
     "execution_count": 8,
     "metadata": {},
     "output_type": "execute_result"
    }
   ],
   "source": [
    "r.df.columns"
   ]
  },
  {
   "cell_type": "code",
   "execution_count": 9,
   "metadata": {},
   "outputs": [
    {
     "data": {
      "text/plain": [
       "dataType\n",
       "comment      14284\n",
       "post          1837\n",
       "community        2\n",
       "Name: count, dtype: int64"
      ]
     },
     "execution_count": 9,
     "metadata": {},
     "output_type": "execute_result"
    }
   ],
   "source": [
    "r.df['dataType'].value_counts()"
   ]
  },
  {
   "cell_type": "code",
   "execution_count": 46,
   "metadata": {},
   "outputs": [
    {
     "name": "stdout",
     "output_type": "stream",
     "text": [
      "Index(['communityName', 'createdAt', 'dataType', 'id', 'isAd', 'isVideo',\n",
      "       'numberOfComments', 'parsedCommunityName', 'parsedId', 'scrapedAt',\n",
      "       'title', 'upVotes', 'url', 'username'],\n",
      "      dtype='object')\n",
      "Index(['body', 'category', 'categoryLabel', 'createdAt', 'dataType', 'html',\n",
      "       'id', 'numberOfreplies', 'parentId', 'parsedId', 'scrapedAt', 'upVotes',\n",
      "       'url', 'username'],\n",
      "      dtype='object')\n",
      "Index(['alternativeTitle', 'categories/0', 'categories/1', 'categories/2',\n",
      "       'categories/3', 'createdAt', 'dataType', 'numberOfMembers', 'scrapedAt',\n",
      "       'title', 'url'],\n",
      "      dtype='object')\n"
     ]
    }
   ],
   "source": [
    "print(r.postdf.columns)\n",
    "print(r.commentdf.columns)\n",
    "print(r.communitydf.columns)"
   ]
  },
  {
   "cell_type": "code",
   "execution_count": 41,
   "metadata": {},
   "outputs": [
    {
     "data": {
      "text/plain": [
       "('t3_134nh3l', 't3_12z6out')"
      ]
     },
     "execution_count": 41,
     "metadata": {},
     "output_type": "execute_result"
    }
   ],
   "source": [
    "r.postdf.iloc[0, :].id, r.commentdf.iloc[0, :].parentId"
   ]
  },
  {
   "cell_type": "code",
   "execution_count": 24,
   "metadata": {},
   "outputs": [
    {
     "name": "stderr",
     "output_type": "stream",
     "text": [
      "/home/parker-alien/miniconda3/envs/cnnhw/lib/python3.9/site-packages/tqdm/auto.py:21: TqdmWarning: IProgress not found. Please update jupyter and ipywidgets. See https://ipywidgets.readthedocs.io/en/stable/user_install.html\n",
      "  from .autonotebook import tqdm as notebook_tqdm\n",
      "Downloading: 100%|██████████| 17.8k/17.8k [00:00<00:00, 450kB/s]\n",
      "Downloading: 100%|██████████| 3.71k/3.71k [00:00<00:00, 2.70MB/s]\n"
     ]
    },
    {
     "name": "stdout",
     "output_type": "stream",
     "text": [
      "Downloading and preparing dataset eli5/LFQA_reddit (download: 6.03 MiB, generated: 1.26 GiB, post-processed: Unknown sizetotal: 1.26 GiB) to /home/parker-alien/.cache/huggingface/datasets/eli5/LFQA_reddit/1.0.0/58e61a99404336f0891b4457a02232489b50131bdca9c1691054aeee2f6f1a6e...\n"
     ]
    },
    {
     "name": "stderr",
     "output_type": "stream",
     "text": [
      "Downloading: 100%|██████████| 3.50k/3.50k [00:00<00:00, 2.34MB/s]\n",
      "Downloading: 100%|██████████| 576M/576M [00:11<00:00, 51.6MB/s] \n",
      "Downloading: 100%|██████████| 21.1M/21.1M [00:00<00:00, 36.7MB/s]\n",
      "Downloading: 100%|██████████| 53.0M/53.0M [00:01<00:00, 31.0MB/s]\n",
      "Downloading: 100%|██████████| 286M/286M [00:06<00:00, 42.1MB/s] \n",
      "Downloading: 100%|██████████| 9.65M/9.65M [00:00<00:00, 23.3MB/s]\n",
      "Downloading: 100%|██████████| 17.7M/17.7M [00:00<00:00, 30.0MB/s]\n",
      "Downloading: 100%|██████████| 330M/330M [00:07<00:00, 44.6MB/s] \n",
      "Downloading: 100%|██████████| 18.7M/18.7M [00:00<00:00, 34.7MB/s]\n",
      "Downloading: 100%|██████████| 36.2M/36.2M [00:00<00:00, 42.0MB/s]\n"
     ]
    },
    {
     "name": "stdout",
     "output_type": "stream",
     "text": [
      "Dataset eli5 downloaded and prepared to /home/parker-alien/.cache/huggingface/datasets/eli5/LFQA_reddit/1.0.0/58e61a99404336f0891b4457a02232489b50131bdca9c1691054aeee2f6f1a6e. Subsequent calls will reuse this data.\n"
     ]
    }
   ],
   "source": [
    "import nlp\n",
    "eli5 = nlp.load_dataset('eli5')"
   ]
  },
  {
   "cell_type": "code",
   "execution_count": 33,
   "metadata": {},
   "outputs": [
    {
     "name": "stdout",
     "output_type": "stream",
     "text": [
      "{'q_id': '8houtx', 'title': 'Why does water heated to room temperature feel colder than the air around it?', 'selftext': '', 'document': '', 'subreddit': 'explainlikeimfive', 'answers': {'a_id': ['dylcnfk', 'dylcj49'], 'text': [\"Water transfers heat more efficiently than air. When something feels cold it's because heat is being transferred from your skin to whatever you're touching. Since water absorbs the heat more readily than air, it feels colder.\", \"Air isn't as good at transferring heat compared to something like water or steel (sit on a room temperature steel bench vs. a room temperature wooden bench, and the steel one will feel more cold).\\n\\nWhen you feel cold, what you're feeling is heat being transferred out of you.  If there is no breeze, you feel a certain way.  If there's a breeze, you will get colder faster (because the moving air is pulling the heat away from you), and if you get into water, its quite good at pulling heat from you.   Get out of the water and have a breeze blow on you while you're wet, all of the water starts evaporating, pulling even more heat from you.\"], 'score': [5, 2]}, 'title_urls': {'url': []}, 'selftext_urls': {'url': []}, 'answers_urls': {'url': []}}\n",
      "dict_keys(['train_eli5', 'validation_eli5', 'test_eli5', 'train_asks', 'validation_asks', 'test_asks', 'train_askh', 'validation_askh', 'test_askh'])\n",
      "272634 24512 9812\n"
     ]
    }
   ],
   "source": [
    "print(eli5['test_eli5'][12345])\n",
    "print(eli5.keys())\n",
    "print(len(eli5['train_eli5']), len(eli5['test_eli5']), len(eli5['validation_eli5']))"
   ]
  },
  {
   "cell_type": "code",
   "execution_count": 47,
   "metadata": {},
   "outputs": [
    {
     "data": {
      "text/plain": [
       "0                                     Personal Finance\n",
       "1    r/Investments: Sharing and discovering new inv...\n",
       "Name: title, dtype: object"
      ]
     },
     "execution_count": 47,
     "metadata": {},
     "output_type": "execute_result"
    }
   ],
   "source": []
  },
  {
   "cell_type": "code",
   "execution_count": null,
   "metadata": {},
   "outputs": [],
   "source": []
  }
 ],
 "metadata": {
  "kernelspec": {
   "display_name": "cnnhw",
   "language": "python",
   "name": "python3"
  },
  "language_info": {
   "codemirror_mode": {
    "name": "ipython",
    "version": 3
   },
   "file_extension": ".py",
   "mimetype": "text/x-python",
   "name": "python",
   "nbconvert_exporter": "python",
   "pygments_lexer": "ipython3",
   "version": "3.9.16"
  },
  "orig_nbformat": 4
 },
 "nbformat": 4,
 "nbformat_minor": 2
}
